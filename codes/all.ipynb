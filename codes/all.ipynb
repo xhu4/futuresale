{
 "cells": [
  {
   "cell_type": "markdown",
   "metadata": {},
   "source": [
    "# Kaggle: Predict Future Sales\n",
    "\n",
    "Required packages:\n",
    "numpy, matplotlib, pandas, seaborn, XGBoost, scikit-learn, googlemaps (optional)."
   ]
  },
  {
   "cell_type": "code",
   "execution_count": 1,
   "metadata": {},
   "outputs": [],
   "source": [
    "# We set jupyter notebook interactivity to all for easier output display\n",
    "from IPython.core.interactiveshell import InteractiveShell\n",
    "InteractiveShell.ast_node_interactivity='all'"
   ]
  },
  {
   "cell_type": "code",
   "execution_count": 2,
   "metadata": {},
   "outputs": [],
   "source": [
    "%run utils.py"
   ]
  },
  {
   "cell_type": "markdown",
   "metadata": {},
   "source": [
    "The following modules are imported by utils.py:\n",
    "\n",
    "``` python\n",
    "import os\n",
    "from time import sleep\n",
    "from math import sqrt\n",
    "from gc import collect\n",
    "import pickle\n",
    "\n",
    "import pandas as pd\n",
    "import numpy as np\n",
    "import matplotlib.pyplot as plt\n",
    "from sklearn.metrics import mean_squared_error\n",
    "import seaborn as sns\n",
    "```\n",
    "\n",
    "Constants defined in `utils.py`:\n",
    "\n",
    "``` python\n",
    "TARGET = \"item_cnt_month\"\n",
    "\n",
    "# A series used for mapping from date_block_num to datetime (first day of each month)\n",
    "DS = pd.Series(pd.date_range(start = '2013-01-01',end='2015-11-01', freq = 'MS'))\n",
    "```\n",
    "\n",
    "along with some functions:\n",
    "\n",
    "- `load(path)` to load data (in csv/pickle/json format).\n",
    "- `dump(obj, path)` to dump data (in csv/pickle/json format). (no index when save as csv)\n",
    "- `prepare_submission(prediction, filename)` to prepare file for submission. This function will clip `prediction`, and by default save to folder `../submissions` if only a file name is given. Default file format is `.csv.gz`.\n",
    "- `score(prediction, y)` gives the clipped rmse score, i.e. `RMSE(clip(prediction, 0, 20), clip(y, 0, 20))`."
   ]
  },
  {
   "cell_type": "code",
   "execution_count": 3,
   "metadata": {},
   "outputs": [],
   "source": [
    "import re\n",
    "from itertools import product, repeat"
   ]
  },
  {
   "cell_type": "markdown",
   "metadata": {},
   "source": [
    "Load all data files."
   ]
  },
  {
   "cell_type": "code",
   "execution_count": 4,
   "metadata": {},
   "outputs": [],
   "source": [
    "items = load('../data/items.csv')\n",
    "shops = load('../data/shops.csv')\n",
    "cates = load('../data/item_categories.csv')\n",
    "sales = load('../data/sales_train.csv.gz')\n",
    "test = load('../data/test.csv.gz').drop(columns='ID')"
   ]
  },
  {
   "cell_type": "code",
   "execution_count": 5,
   "metadata": {},
   "outputs": [],
   "source": [
    "sales.date = pd.to_datetime(sales.date, format='%d.%m.%Y')"
   ]
  },
  {
   "cell_type": "markdown",
   "metadata": {},
   "source": [
    "## EDA"
   ]
  },
  {
   "cell_type": "markdown",
   "metadata": {},
   "source": [
    "### 1. Price and sales outliers (from [Denis Larionov](https://www.kaggle.com/dlarionov/feature-engineering-xgboost))\n",
    "\n",
    "We plot all `price` and `item_cnt_day` in sales record to identify outliers."
   ]
  },
  {
   "cell_type": "code",
   "execution_count": 6,
   "metadata": {},
   "outputs": [
    {
     "data": {
      "image/png": "[encoded data removed]",
      "text/plain": [
       "<Figure size 720x288 with 1 Axes>"
      ]
     },
     "metadata": {
      "needs_background": "light"
     },
     "output_type": "display_data"
    },
    {
     "data": {
      "image/png": "[encoded data removed]",
      "text/plain": [
       "<Figure size 720x288 with 1 Axes>"
      ]
     },
     "metadata": {
      "needs_background": "light"
     },
     "output_type": "display_data"
    }
   ],
   "source": [
    "plt.figure(figsize=(10,4));\n",
    "sns.boxplot(sales.item_cnt_day);\n",
    "plt.figure(figsize=(10,4));\n",
    "sns.boxplot(sales.item_price);"
   ]
  },
  {
   "cell_type": "code",
   "execution_count": 7,
   "metadata": {},
   "outputs": [
    {
     "data": {
      "text/html": [
       "<div>\n",
       "<style scoped>\n",
       "    .dataframe tbody tr th:only-of-type {\n",
       "        vertical-align: middle;\n",
       "    }\n",
       "\n",
       "    .dataframe tbody tr th {\n",
       "        vertical-align: top;\n",
       "    }\n",
       "\n",
       "    .dataframe thead th {\n",
       "        text-align: right;\n",
       "    }\n",
       "</style>\n",
       "<table border=\"1\" class=\"dataframe\">\n",
       "  <thead>\n",
       "    <tr style=\"text-align: right;\">\n",
       "      <th></th>\n",
       "      <th>date</th>\n",
       "      <th>date_block_num</th>\n",
       "      <th>shop_id</th>\n",
       "      <th>item_id</th>\n",
       "      <th>item_price</th>\n",
       "      <th>item_cnt_day</th>\n",
       "    </tr>\n",
       "  </thead>\n",
       "  <tbody>\n",
       "    <tr>\n",
       "      <th>1163158</th>\n",
       "      <td>2013-12-13</td>\n",
       "      <td>11</td>\n",
       "      <td>12</td>\n",
       "      <td>6066</td>\n",
       "      <td>307980.0</td>\n",
       "      <td>1.0</td>\n",
       "    </tr>\n",
       "  </tbody>\n",
       "</table>\n",
       "</div>"
      ],
      "text/plain": [
       "              date  date_block_num  shop_id  item_id  item_price  item_cnt_day\n",
       "1163158 2013-12-13              11       12     6066    307980.0           1.0"
      ]
     },
     "execution_count": 7,
     "metadata": {},
     "output_type": "execute_result"
    }
   ],
   "source": [
    "# Let's find out what costs 300000+\n",
    "sales[sales.item_price == sales.item_price.max()]"
   ]
  },
  {
   "cell_type": "code",
   "execution_count": 8,
   "metadata": {},
   "outputs": [
    {
     "data": {
      "text/html": [
       "<div>\n",
       "<style scoped>\n",
       "    .dataframe tbody tr th:only-of-type {\n",
       "        vertical-align: middle;\n",
       "    }\n",
       "\n",
       "    .dataframe tbody tr th {\n",
       "        vertical-align: top;\n",
       "    }\n",
       "\n",
       "    .dataframe thead th {\n",
       "        text-align: right;\n",
       "    }\n",
       "</style>\n",
       "<table border=\"1\" class=\"dataframe\">\n",
       "  <thead>\n",
       "    <tr style=\"text-align: right;\">\n",
       "      <th></th>\n",
       "      <th>date</th>\n",
       "      <th>date_block_num</th>\n",
       "      <th>shop_id</th>\n",
       "      <th>item_id</th>\n",
       "      <th>item_price</th>\n",
       "      <th>item_cnt_day</th>\n",
       "    </tr>\n",
       "  </thead>\n",
       "  <tbody>\n",
       "    <tr>\n",
       "      <th>1163158</th>\n",
       "      <td>2013-12-13</td>\n",
       "      <td>11</td>\n",
       "      <td>12</td>\n",
       "      <td>6066</td>\n",
       "      <td>307980.0</td>\n",
       "      <td>1.0</td>\n",
       "    </tr>\n",
       "  </tbody>\n",
       "</table>\n",
       "</div>"
      ],
      "text/plain": [
       "              date  date_block_num  shop_id  item_id  item_price  item_cnt_day\n",
       "1163158 2013-12-13              11       12     6066    307980.0           1.0"
      ]
     },
     "execution_count": 8,
     "metadata": {},
     "output_type": "execute_result"
    }
   ],
   "source": [
    "# This is the only sale of 6066\n",
    "sales[sales.item_id==6066]"
   ]
  },
  {
   "cell_type": "code",
   "execution_count": 9,
   "metadata": {},
   "outputs": [
    {
     "data": {
      "text/html": [
       "<div>\n",
       "<style scoped>\n",
       "    .dataframe tbody tr th:only-of-type {\n",
       "        vertical-align: middle;\n",
       "    }\n",
       "\n",
       "    .dataframe tbody tr th {\n",
       "        vertical-align: top;\n",
       "    }\n",
       "\n",
       "    .dataframe thead th {\n",
       "        text-align: right;\n",
       "    }\n",
       "</style>\n",
       "<table border=\"1\" class=\"dataframe\">\n",
       "  <thead>\n",
       "    <tr style=\"text-align: right;\">\n",
       "      <th></th>\n",
       "      <th>item_name</th>\n",
       "      <th>item_id</th>\n",
       "      <th>item_category_id</th>\n",
       "    </tr>\n",
       "  </thead>\n",
       "  <tbody>\n",
       "    <tr>\n",
       "      <th>6066</th>\n",
       "      <td>Radmin 3  - 522 лиц.</td>\n",
       "      <td>6066</td>\n",
       "      <td>75</td>\n",
       "    </tr>\n",
       "  </tbody>\n",
       "</table>\n",
       "</div>"
      ],
      "text/plain": [
       "                 item_name  item_id  item_category_id\n",
       "6066  Radmin 3  - 522 лиц.     6066                75"
      ]
     },
     "execution_count": 9,
     "metadata": {},
     "output_type": "execute_result"
    }
   ],
   "source": [
    "# This is infact Radmin 3 with 522 licenses\n",
    "items[items.item_id==6066]\n",
    "# and is not in our test set\n",
    "assert 6066 not in test.item_id.unique()"
   ]
  },
  {
   "cell_type": "code",
   "execution_count": 10,
   "metadata": {},
   "outputs": [],
   "source": [
    "# Remove outliers\n",
    "sales = sales[(sales.item_cnt_day<2000) & (sales.item_price<300000)]"
   ]
  },
  {
   "cell_type": "markdown",
   "metadata": {},
   "source": [
    "### 2. One record has negative price ([Denis Larionov](https://www.kaggle.com/dlarionov/feature-engineering-xgboost))"
   ]
  },
  {
   "cell_type": "code",
   "execution_count": 11,
   "metadata": {
    "scrolled": true
   },
   "outputs": [
    {
     "data": {
      "text/html": [
       "<div>\n",
       "<style scoped>\n",
       "    .dataframe tbody tr th:only-of-type {\n",
       "        vertical-align: middle;\n",
       "    }\n",
       "\n",
       "    .dataframe tbody tr th {\n",
       "        vertical-align: top;\n",
       "    }\n",
       "\n",
       "    .dataframe thead th {\n",
       "        text-align: right;\n",
       "    }\n",
       "</style>\n",
       "<table border=\"1\" class=\"dataframe\">\n",
       "  <thead>\n",
       "    <tr style=\"text-align: right;\">\n",
       "      <th></th>\n",
       "      <th>date</th>\n",
       "      <th>date_block_num</th>\n",
       "      <th>shop_id</th>\n",
       "      <th>item_id</th>\n",
       "      <th>item_price</th>\n",
       "      <th>item_cnt_day</th>\n",
       "    </tr>\n",
       "  </thead>\n",
       "  <tbody>\n",
       "    <tr>\n",
       "      <th>484683</th>\n",
       "      <td>2013-05-15</td>\n",
       "      <td>4</td>\n",
       "      <td>32</td>\n",
       "      <td>2973</td>\n",
       "      <td>-1.0</td>\n",
       "      <td>1.0</td>\n",
       "    </tr>\n",
       "  </tbody>\n",
       "</table>\n",
       "</div>"
      ],
      "text/plain": [
       "             date  date_block_num  shop_id  item_id  item_price  item_cnt_day\n",
       "484683 2013-05-15               4       32     2973        -1.0           1.0"
      ]
     },
     "execution_count": 11,
     "metadata": {},
     "output_type": "execute_result"
    }
   ],
   "source": [
    "sales[sales.item_price <= 0]"
   ]
  },
  {
   "cell_type": "code",
   "execution_count": 12,
   "metadata": {},
   "outputs": [
    {
     "data": {
      "text/html": [
       "<div>\n",
       "<style scoped>\n",
       "    .dataframe tbody tr th:only-of-type {\n",
       "        vertical-align: middle;\n",
       "    }\n",
       "\n",
       "    .dataframe tbody tr th {\n",
       "        vertical-align: top;\n",
       "    }\n",
       "\n",
       "    .dataframe thead th {\n",
       "        text-align: right;\n",
       "    }\n",
       "</style>\n",
       "<table border=\"1\" class=\"dataframe\">\n",
       "  <thead>\n",
       "    <tr style=\"text-align: right;\">\n",
       "      <th></th>\n",
       "      <th>date</th>\n",
       "      <th>date_block_num</th>\n",
       "      <th>shop_id</th>\n",
       "      <th>item_id</th>\n",
       "      <th>item_price</th>\n",
       "      <th>item_cnt_day</th>\n",
       "    </tr>\n",
       "  </thead>\n",
       "  <tbody>\n",
       "    <tr>\n",
       "      <th>484684</th>\n",
       "      <td>2013-05-06</td>\n",
       "      <td>4</td>\n",
       "      <td>32</td>\n",
       "      <td>2973</td>\n",
       "      <td>2499.0</td>\n",
       "      <td>1.0</td>\n",
       "    </tr>\n",
       "    <tr>\n",
       "      <th>484683</th>\n",
       "      <td>2013-05-15</td>\n",
       "      <td>4</td>\n",
       "      <td>32</td>\n",
       "      <td>2973</td>\n",
       "      <td>-1.0</td>\n",
       "      <td>1.0</td>\n",
       "    </tr>\n",
       "    <tr>\n",
       "      <th>484682</th>\n",
       "      <td>2013-05-23</td>\n",
       "      <td>4</td>\n",
       "      <td>32</td>\n",
       "      <td>2973</td>\n",
       "      <td>1249.0</td>\n",
       "      <td>1.0</td>\n",
       "    </tr>\n",
       "    <tr>\n",
       "      <th>555026</th>\n",
       "      <td>2013-06-05</td>\n",
       "      <td>5</td>\n",
       "      <td>32</td>\n",
       "      <td>2973</td>\n",
       "      <td>1249.5</td>\n",
       "      <td>1.0</td>\n",
       "    </tr>\n",
       "  </tbody>\n",
       "</table>\n",
       "</div>"
      ],
      "text/plain": [
       "             date  date_block_num  shop_id  item_id  item_price  item_cnt_day\n",
       "484684 2013-05-06               4       32     2973      2499.0           1.0\n",
       "484683 2013-05-15               4       32     2973        -1.0           1.0\n",
       "484682 2013-05-23               4       32     2973      1249.0           1.0\n",
       "555026 2013-06-05               5       32     2973      1249.5           1.0"
      ]
     },
     "execution_count": 12,
     "metadata": {},
     "output_type": "execute_result"
    }
   ],
   "source": [
    "# Let's find out what is the price near this sale.\n",
    "# It seems like there was a price drop near 2013-05-15.\n",
    "# Thus we can replace this price by the average.\n",
    "sales.loc[(sales.shop_id==32) \n",
    "          &(sales.item_id==2973)\n",
    "          &(sales.date_block_num.isin([3,4,5])),:].sort_values(by='date')\n",
    "sales.loc[sales.item_price<0, 'item_price'] = (1249+2499)/2"
   ]
  },
  {
   "cell_type": "markdown",
   "metadata": {},
   "source": [
    "### 3. Special Shops 9 and 20\n",
    "\n",
    "Shop 9 and 20 (online/inventory etc) only have data in one month each year, and are not in test set."
   ]
  },
  {
   "cell_type": "code",
   "execution_count": 13,
   "metadata": {},
   "outputs": [
    {
     "data": {
      "text/html": [
       "<div>\n",
       "<style scoped>\n",
       "    .dataframe tbody tr th:only-of-type {\n",
       "        vertical-align: middle;\n",
       "    }\n",
       "\n",
       "    .dataframe tbody tr th {\n",
       "        vertical-align: top;\n",
       "    }\n",
       "\n",
       "    .dataframe thead th {\n",
       "        text-align: right;\n",
       "    }\n",
       "</style>\n",
       "<table border=\"1\" class=\"dataframe\">\n",
       "  <thead>\n",
       "    <tr style=\"text-align: right;\">\n",
       "      <th></th>\n",
       "      <th>shop_name</th>\n",
       "      <th>shop_id</th>\n",
       "    </tr>\n",
       "  </thead>\n",
       "  <tbody>\n",
       "    <tr>\n",
       "      <th>9</th>\n",
       "      <td>Выездная Торговля</td>\n",
       "      <td>9</td>\n",
       "    </tr>\n",
       "    <tr>\n",
       "      <th>20</th>\n",
       "      <td>Москва \"Распродажа\"</td>\n",
       "      <td>20</td>\n",
       "    </tr>\n",
       "  </tbody>\n",
       "</table>\n",
       "</div>"
      ],
      "text/plain": [
       "              shop_name  shop_id\n",
       "9     Выездная Торговля        9\n",
       "20  Москва \"Распродажа\"       20"
      ]
     },
     "execution_count": 13,
     "metadata": {},
     "output_type": "execute_result"
    }
   ],
   "source": [
    "# Google translation:\n",
    "#    shop_id 9 : outbound trades\n",
    "#    shop_id 20: Moscow \"Sale\"\n",
    "special_shops = [9, 20]\n",
    "shops[shops.shop_id.isin(special_shops)]"
   ]
  },
  {
   "cell_type": "code",
   "execution_count": 14,
   "metadata": {},
   "outputs": [
    {
     "data": {
      "text/plain": [
       "array([ 9, 21, 27, 33])"
      ]
     },
     "execution_count": 14,
     "metadata": {},
     "output_type": "execute_result"
    }
   ],
   "source": [
    "# These shops only sales (have records) in few months (3 Septembers and 1 March)\n",
    "sales.loc[sales.shop_id.isin(special_shops)]['date_block_num'].unique()\n",
    "\n",
    "# And they are not in our test set\n",
    "assert 9 not in test.shop_id.unique()\n",
    "assert 20 not in test.shop_id.unique()"
   ]
  },
  {
   "cell_type": "code",
   "execution_count": 15,
   "metadata": {},
   "outputs": [],
   "source": [
    "# Remove them from our data.\n",
    "sales = sales[~sales.shop_id.isin(special_shops)]"
   ]
  },
  {
   "cell_type": "markdown",
   "metadata": {},
   "source": [
    "### 4. Shop 10 and 11, 0 and 57, 1 and 58 are the same shops. ([DennisE](https://www.kaggle.com/dennise/coursera-competition-getting-started-eda) and [Denis Larionov](https://www.kaggle.com/dlarionov/feature-engineering-xgboost))\n",
    "\n",
    "Below shows that the saling data are not overlapped for these shops."
   ]
  },
  {
   "cell_type": "code",
   "execution_count": 16,
   "metadata": {},
   "outputs": [
    {
     "data": {
      "text/html": [
       "<div>\n",
       "<style scoped>\n",
       "    .dataframe tbody tr th:only-of-type {\n",
       "        vertical-align: middle;\n",
       "    }\n",
       "\n",
       "    .dataframe tbody tr th {\n",
       "        vertical-align: top;\n",
       "    }\n",
       "\n",
       "    .dataframe thead th {\n",
       "        text-align: right;\n",
       "    }\n",
       "</style>\n",
       "<table border=\"1\" class=\"dataframe\">\n",
       "  <thead>\n",
       "    <tr style=\"text-align: right;\">\n",
       "      <th></th>\n",
       "      <th>shop_name</th>\n",
       "      <th>shop_id</th>\n",
       "    </tr>\n",
       "  </thead>\n",
       "  <tbody>\n",
       "    <tr>\n",
       "      <th>10</th>\n",
       "      <td>Жуковский ул. Чкалова 39м?</td>\n",
       "      <td>10</td>\n",
       "    </tr>\n",
       "    <tr>\n",
       "      <th>11</th>\n",
       "      <td>Жуковский ул. Чкалова 39м²</td>\n",
       "      <td>11</td>\n",
       "    </tr>\n",
       "  </tbody>\n",
       "</table>\n",
       "</div>"
      ],
      "text/plain": [
       "                     shop_name  shop_id\n",
       "10  Жуковский ул. Чкалова 39м?       10\n",
       "11  Жуковский ул. Чкалова 39м²       11"
      ]
     },
     "execution_count": 16,
     "metadata": {},
     "output_type": "execute_result"
    },
    {
     "name": "stdout",
     "output_type": "stream",
     "text": [
      "Shop 11 has sales in [25]\n",
      "Shop 10 has sales in [ 0  1  2  3  4  5  6  7  8  9 10 11 12 13 14 15 16 17 18 19 20 21 22 23\n",
      " 24 26 27 28 29 30 31 32 33]\n"
     ]
    }
   ],
   "source": [
    "# shop 10 and shop 11\n",
    "shops[shops.shop_id.isin([10, 11])]\n",
    "print(\"Shop 11 has sales in\", sales[sales.shop_id==11].date_block_num.unique())\n",
    "print(\"Shop 10 has sales in\", sales[(sales.shop_id==10)].date_block_num.unique())"
   ]
  },
  {
   "cell_type": "code",
   "execution_count": 17,
   "metadata": {},
   "outputs": [
    {
     "data": {
      "text/html": [
       "<div>\n",
       "<style scoped>\n",
       "    .dataframe tbody tr th:only-of-type {\n",
       "        vertical-align: middle;\n",
       "    }\n",
       "\n",
       "    .dataframe tbody tr th {\n",
       "        vertical-align: top;\n",
       "    }\n",
       "\n",
       "    .dataframe thead th {\n",
       "        text-align: right;\n",
       "    }\n",
       "</style>\n",
       "<table border=\"1\" class=\"dataframe\">\n",
       "  <thead>\n",
       "    <tr style=\"text-align: right;\">\n",
       "      <th></th>\n",
       "      <th>shop_name</th>\n",
       "      <th>shop_id</th>\n",
       "    </tr>\n",
       "  </thead>\n",
       "  <tbody>\n",
       "    <tr>\n",
       "      <th>0</th>\n",
       "      <td>!Якутск Орджоникидзе, 56 фран</td>\n",
       "      <td>0</td>\n",
       "    </tr>\n",
       "    <tr>\n",
       "      <th>57</th>\n",
       "      <td>Якутск Орджоникидзе, 56</td>\n",
       "      <td>57</td>\n",
       "    </tr>\n",
       "  </tbody>\n",
       "</table>\n",
       "</div>"
      ],
      "text/plain": [
       "                        shop_name  shop_id\n",
       "0   !Якутск Орджоникидзе, 56 фран        0\n",
       "57        Якутск Орджоникидзе, 56       57"
      ]
     },
     "execution_count": 17,
     "metadata": {},
     "output_type": "execute_result"
    },
    {
     "data": {
      "text/html": [
       "<div>\n",
       "<style scoped>\n",
       "    .dataframe tbody tr th:only-of-type {\n",
       "        vertical-align: middle;\n",
       "    }\n",
       "\n",
       "    .dataframe tbody tr th {\n",
       "        vertical-align: top;\n",
       "    }\n",
       "\n",
       "    .dataframe thead tr th {\n",
       "        text-align: left;\n",
       "    }\n",
       "\n",
       "    .dataframe thead tr:last-of-type th {\n",
       "        text-align: right;\n",
       "    }\n",
       "</style>\n",
       "<table border=\"1\" class=\"dataframe\">\n",
       "  <thead>\n",
       "    <tr>\n",
       "      <th></th>\n",
       "      <th colspan=\"2\" halign=\"left\">date</th>\n",
       "    </tr>\n",
       "    <tr>\n",
       "      <th></th>\n",
       "      <th>min</th>\n",
       "      <th>max</th>\n",
       "    </tr>\n",
       "    <tr>\n",
       "      <th>shop_id</th>\n",
       "      <th></th>\n",
       "      <th></th>\n",
       "    </tr>\n",
       "  </thead>\n",
       "  <tbody>\n",
       "    <tr>\n",
       "      <th>0</th>\n",
       "      <td>2013-01-03</td>\n",
       "      <td>2013-02-28</td>\n",
       "    </tr>\n",
       "    <tr>\n",
       "      <th>57</th>\n",
       "      <td>2013-03-01</td>\n",
       "      <td>2015-10-31</td>\n",
       "    </tr>\n",
       "  </tbody>\n",
       "</table>\n",
       "</div>"
      ],
      "text/plain": [
       "              date           \n",
       "               min        max\n",
       "shop_id                      \n",
       "0       2013-01-03 2013-02-28\n",
       "57      2013-03-01 2015-10-31"
      ]
     },
     "execution_count": 17,
     "metadata": {},
     "output_type": "execute_result"
    }
   ],
   "source": [
    "# shop 0 and shop 57\n",
    "shops[shops.shop_id.isin([0,57])]\n",
    "sales[sales.shop_id.isin([0,57])].groupby('shop_id').agg({'date':['min', 'max']})"
   ]
  },
  {
   "cell_type": "code",
   "execution_count": 18,
   "metadata": {},
   "outputs": [
    {
     "data": {
      "text/html": [
       "<div>\n",
       "<style scoped>\n",
       "    .dataframe tbody tr th:only-of-type {\n",
       "        vertical-align: middle;\n",
       "    }\n",
       "\n",
       "    .dataframe tbody tr th {\n",
       "        vertical-align: top;\n",
       "    }\n",
       "\n",
       "    .dataframe thead th {\n",
       "        text-align: right;\n",
       "    }\n",
       "</style>\n",
       "<table border=\"1\" class=\"dataframe\">\n",
       "  <thead>\n",
       "    <tr style=\"text-align: right;\">\n",
       "      <th></th>\n",
       "      <th>shop_name</th>\n",
       "      <th>shop_id</th>\n",
       "    </tr>\n",
       "  </thead>\n",
       "  <tbody>\n",
       "    <tr>\n",
       "      <th>1</th>\n",
       "      <td>!Якутск ТЦ \"Центральный\" фран</td>\n",
       "      <td>1</td>\n",
       "    </tr>\n",
       "    <tr>\n",
       "      <th>58</th>\n",
       "      <td>Якутск ТЦ \"Центральный\"</td>\n",
       "      <td>58</td>\n",
       "    </tr>\n",
       "  </tbody>\n",
       "</table>\n",
       "</div>"
      ],
      "text/plain": [
       "                        shop_name  shop_id\n",
       "1   !Якутск ТЦ \"Центральный\" фран        1\n",
       "58        Якутск ТЦ \"Центральный\"       58"
      ]
     },
     "execution_count": 18,
     "metadata": {},
     "output_type": "execute_result"
    },
    {
     "data": {
      "text/html": [
       "<div>\n",
       "<style scoped>\n",
       "    .dataframe tbody tr th:only-of-type {\n",
       "        vertical-align: middle;\n",
       "    }\n",
       "\n",
       "    .dataframe tbody tr th {\n",
       "        vertical-align: top;\n",
       "    }\n",
       "\n",
       "    .dataframe thead tr th {\n",
       "        text-align: left;\n",
       "    }\n",
       "\n",
       "    .dataframe thead tr:last-of-type th {\n",
       "        text-align: right;\n",
       "    }\n",
       "</style>\n",
       "<table border=\"1\" class=\"dataframe\">\n",
       "  <thead>\n",
       "    <tr>\n",
       "      <th></th>\n",
       "      <th colspan=\"2\" halign=\"left\">date</th>\n",
       "    </tr>\n",
       "    <tr>\n",
       "      <th></th>\n",
       "      <th>min</th>\n",
       "      <th>max</th>\n",
       "    </tr>\n",
       "    <tr>\n",
       "      <th>shop_id</th>\n",
       "      <th></th>\n",
       "      <th></th>\n",
       "    </tr>\n",
       "  </thead>\n",
       "  <tbody>\n",
       "    <tr>\n",
       "      <th>1</th>\n",
       "      <td>2013-01-03</td>\n",
       "      <td>2013-02-28</td>\n",
       "    </tr>\n",
       "    <tr>\n",
       "      <th>58</th>\n",
       "      <td>2013-03-01</td>\n",
       "      <td>2015-10-31</td>\n",
       "    </tr>\n",
       "  </tbody>\n",
       "</table>\n",
       "</div>"
      ],
      "text/plain": [
       "              date           \n",
       "               min        max\n",
       "shop_id                      \n",
       "1       2013-01-03 2013-02-28\n",
       "58      2013-03-01 2015-10-31"
      ]
     },
     "execution_count": 18,
     "metadata": {},
     "output_type": "execute_result"
    }
   ],
   "source": [
    "# shop 1 and 58\n",
    "shops[shops.shop_id.isin([1, 58])]\n",
    "sales[sales.shop_id.isin([1,58])].groupby('shop_id').agg({'date':['min', 'max']})"
   ]
  },
  {
   "cell_type": "code",
   "execution_count": 19,
   "metadata": {},
   "outputs": [],
   "source": [
    "# So we combine similar shops.\n",
    "sales = (sales.replace({'shop_id':{0:57, 1:58, 11:10}}))\n",
    "# Note we only change shops that are not in test set.\n",
    "assert all(~test.shop_id.isin([0,1,11]))"
   ]
  },
  {
   "cell_type": "code",
   "execution_count": 20,
   "metadata": {},
   "outputs": [],
   "source": [
    "dump(sales, '../post/sales.csv')"
   ]
  },
  {
   "cell_type": "markdown",
   "metadata": {},
   "source": [
    "## Feature Engineering"
   ]
  },
  {
   "cell_type": "markdown",
   "metadata": {},
   "source": [
    "### 1. Prepare data\n",
    "\n",
    "Test data contains items that are not in `sales_train.csv`. Some of them were released in October/November 2015 (ADELE 25) and some were released much earlier but never sold before (a lot of figures). For this reason, we need to construct our data carefully."
   ]
  },
  {
   "cell_type": "code",
   "execution_count": 21,
   "metadata": {},
   "outputs": [
    {
     "data": {
      "text/html": [
       "<div>\n",
       "<style scoped>\n",
       "    .dataframe tbody tr th:only-of-type {\n",
       "        vertical-align: middle;\n",
       "    }\n",
       "\n",
       "    .dataframe tbody tr th {\n",
       "        vertical-align: top;\n",
       "    }\n",
       "\n",
       "    .dataframe thead th {\n",
       "        text-align: right;\n",
       "    }\n",
       "</style>\n",
       "<table border=\"1\" class=\"dataframe\">\n",
       "  <thead>\n",
       "    <tr style=\"text-align: right;\">\n",
       "      <th></th>\n",
       "      <th>item_name</th>\n",
       "      <th>item_id</th>\n",
       "      <th>item_category_id</th>\n",
       "    </tr>\n",
       "  </thead>\n",
       "  <tbody>\n",
       "    <tr>\n",
       "      <th>6733</th>\n",
       "      <td>Star Wars: Battlefront [Xbox One, русская версия]</td>\n",
       "      <td>6733</td>\n",
       "      <td>24</td>\n",
       "    </tr>\n",
       "    <tr>\n",
       "      <th>19210</th>\n",
       "      <td>СУПЕРМЕН 2</td>\n",
       "      <td>19210</td>\n",
       "      <td>40</td>\n",
       "    </tr>\n",
       "    <tr>\n",
       "      <th>14647</th>\n",
       "      <td>МИССИЯ НЕВЫПОЛНИМА  ПЛЕМЯ ИЗГОЕВ</td>\n",
       "      <td>14647</td>\n",
       "      <td>40</td>\n",
       "    </tr>\n",
       "    <tr>\n",
       "      <th>20461</th>\n",
       "      <td>Фигурка Diablo Diablo POP Games 3.75\"</td>\n",
       "      <td>20461</td>\n",
       "      <td>72</td>\n",
       "    </tr>\n",
       "    <tr>\n",
       "      <th>15033</th>\n",
       "      <td>Метод.материалы \"1С:Бухгалтерия государственно...</td>\n",
       "      <td>15033</td>\n",
       "      <td>49</td>\n",
       "    </tr>\n",
       "  </tbody>\n",
       "</table>\n",
       "</div>"
      ],
      "text/plain": [
       "                                               item_name  item_id  \\\n",
       "6733   Star Wars: Battlefront [Xbox One, русская версия]     6733   \n",
       "19210                                         СУПЕРМЕН 2    19210   \n",
       "14647                   МИССИЯ НЕВЫПОЛНИМА  ПЛЕМЯ ИЗГОЕВ    14647   \n",
       "20461              Фигурка Diablo Diablo POP Games 3.75\"    20461   \n",
       "15033  Метод.материалы \"1С:Бухгалтерия государственно...    15033   \n",
       "\n",
       "       item_category_id  \n",
       "6733                 24  \n",
       "19210                40  \n",
       "14647                40  \n",
       "20461                72  \n",
       "15033                49  "
      ]
     },
     "execution_count": 21,
     "metadata": {},
     "output_type": "execute_result"
    }
   ],
   "source": [
    "# Get items that are in test set but not in train set\n",
    "items_test_not_train = set(test.item_id.unique()) - set(sales.reset_index().item_id.unique())\n",
    "\n",
    "# Five example items that are in test but not in train\n",
    "items[items.item_id.isin(items_test_not_train)].sample(5)"
   ]
  },
  {
   "cell_type": "code",
   "execution_count": 22,
   "metadata": {
    "scrolled": false
   },
   "outputs": [],
   "source": [
    "# In order to train a healthy model, we pad zeros at necessary places to mimic test set.\n",
    "# This data generation scheme is basically from week 3 encoding assignment.\n",
    "data = []\n",
    "for i in range(34):\n",
    "    s = sales[sales.date_block_num==i]\n",
    "    vsh = s.shop_id.unique()\n",
    "    vit = s.item_id.unique()\n",
    "    data.append(np.array(list(product(vsh, vit, [i]))))\n",
    "data = pd.DataFrame(np.vstack(data), columns=['shop_id', 'item_id', 'date_block_num'])"
   ]
  },
  {
   "cell_type": "code",
   "execution_count": 23,
   "metadata": {},
   "outputs": [],
   "source": [
    "data = (data.merge(sales.groupby(['shop_id', 'item_id', 'date_block_num'],\n",
    "                               as_index=False)['item_cnt_day'].sum(),\n",
    "                 how='left')\n",
    "        .rename(columns={'item_cnt_day': TARGET})\n",
    "       )"
   ]
  },
  {
   "cell_type": "code",
   "execution_count": 24,
   "metadata": {},
   "outputs": [
    {
     "data": {
      "text/plain": [
       "(10913804, 4)"
      ]
     },
     "execution_count": 24,
     "metadata": {},
     "output_type": "execute_result"
    }
   ],
   "source": [
    "data.shape"
   ]
  },
  {
   "cell_type": "markdown",
   "metadata": {},
   "source": [
    "### 1. Shop name -> geocode"
   ]
  },
  {
   "cell_type": "code",
   "execution_count": 25,
   "metadata": {},
   "outputs": [],
   "source": [
    "# Need google api key to run this cell\n",
    "# import googlemaps\n",
    "# gmap = googlemaps.Client(\"*******Google API Key********\")\n",
    "\n",
    "# lat, lng = [], []\n",
    "# for shop in shops.shop_name:\n",
    "#     try:\n",
    "#         gcode = gmap.geocode(shop)[0]['geometry']['location']\n",
    "#     except IndexError:\n",
    "#         gcode = {'lat':np.nan, 'lng':np.nan}\n",
    "#     lat.append(gcode['lat'])\n",
    "#     lng.append(gcode['lng'])\n",
    "\n",
    "# shops = shops.assign(lat=np.array(lat, dtype='float32'),\n",
    "#                      lng=np.array(lng, dtype='float32'))"
   ]
  },
  {
   "cell_type": "code",
   "execution_count": 26,
   "metadata": {},
   "outputs": [],
   "source": [
    "# dump(shops, '../post/shops.csv')"
   ]
  },
  {
   "cell_type": "code",
   "execution_count": 27,
   "metadata": {},
   "outputs": [],
   "source": [
    "shops = load('../post/shops.csv')"
   ]
  },
  {
   "cell_type": "code",
   "execution_count": 28,
   "metadata": {},
   "outputs": [
    {
     "data": {
      "text/html": [
       "<div>\n",
       "<style scoped>\n",
       "    .dataframe tbody tr th:only-of-type {\n",
       "        vertical-align: middle;\n",
       "    }\n",
       "\n",
       "    .dataframe tbody tr th {\n",
       "        vertical-align: top;\n",
       "    }\n",
       "\n",
       "    .dataframe thead th {\n",
       "        text-align: right;\n",
       "    }\n",
       "</style>\n",
       "<table border=\"1\" class=\"dataframe\">\n",
       "  <thead>\n",
       "    <tr style=\"text-align: right;\">\n",
       "      <th></th>\n",
       "      <th>shop_name</th>\n",
       "      <th>shop_id</th>\n",
       "      <th>lat</th>\n",
       "      <th>lng</th>\n",
       "    </tr>\n",
       "  </thead>\n",
       "  <tbody>\n",
       "    <tr>\n",
       "      <th>15</th>\n",
       "      <td>Калуга ТРЦ \"XXI век\"</td>\n",
       "      <td>15</td>\n",
       "      <td>54.516083</td>\n",
       "      <td>36.246662</td>\n",
       "    </tr>\n",
       "    <tr>\n",
       "      <th>45</th>\n",
       "      <td>Самара ТЦ \"ПаркХаус\"</td>\n",
       "      <td>45</td>\n",
       "      <td>53.233420</td>\n",
       "      <td>50.200714</td>\n",
       "    </tr>\n",
       "    <tr>\n",
       "      <th>17</th>\n",
       "      <td>Красноярск ТЦ \"Взлетка Плаза\"</td>\n",
       "      <td>17</td>\n",
       "      <td>56.034466</td>\n",
       "      <td>92.907860</td>\n",
       "    </tr>\n",
       "    <tr>\n",
       "      <th>32</th>\n",
       "      <td>Москва ТЦ \"Серебряный Дом\"</td>\n",
       "      <td>32</td>\n",
       "      <td>55.782090</td>\n",
       "      <td>37.704180</td>\n",
       "    </tr>\n",
       "    <tr>\n",
       "      <th>11</th>\n",
       "      <td>Жуковский ул. Чкалова 39м²</td>\n",
       "      <td>11</td>\n",
       "      <td>55.597580</td>\n",
       "      <td>38.124504</td>\n",
       "    </tr>\n",
       "  </tbody>\n",
       "</table>\n",
       "</div>"
      ],
      "text/plain": [
       "                        shop_name  shop_id        lat        lng\n",
       "15           Калуга ТРЦ \"XXI век\"       15  54.516083  36.246662\n",
       "45           Самара ТЦ \"ПаркХаус\"       45  53.233420  50.200714\n",
       "17  Красноярск ТЦ \"Взлетка Плаза\"       17  56.034466  92.907860\n",
       "32     Москва ТЦ \"Серебряный Дом\"       32  55.782090  37.704180\n",
       "11     Жуковский ул. Чкалова 39м²       11  55.597580  38.124504"
      ]
     },
     "execution_count": 28,
     "metadata": {},
     "output_type": "execute_result"
    }
   ],
   "source": [
    "shops.sample(5)"
   ]
  },
  {
   "cell_type": "markdown",
   "metadata": {},
   "source": [
    "### 2. Parsing category names"
   ]
  },
  {
   "cell_type": "code",
   "execution_count": 29,
   "metadata": {},
   "outputs": [],
   "source": [
    "cates = load('../data/item_categories.csv')"
   ]
  },
  {
   "cell_type": "code",
   "execution_count": 30,
   "metadata": {},
   "outputs": [],
   "source": [
    "# Category names are in the form: cate1 - cate2 (cate3). \n",
    "# We use regular expression to parse it.\n",
    "re.VERBOSE=True\n",
    "words = r'[\\w/]+(?:\\ [\\w/]+)*'\n",
    "pattern = re.compile(r\"\"\"^(?P<cate1>{words})              # First phrase\n",
    "                         (?:\\ -\\ (?P<cate2>{words}))?     # Second phrase, after '-'\n",
    "                         (?:\\ [(](?P<cate3>{words})[)])?  # Third phrase, inside parenthesis\n",
    "                         \"\"\".format(words=words), re.X)\n",
    "\n",
    "subcats = cates.item_category_name.str.extract(pattern)\n",
    "cates = pd.concat([cates, subcats], axis=1)"
   ]
  },
  {
   "cell_type": "code",
   "execution_count": 31,
   "metadata": {},
   "outputs": [],
   "source": [
    "# These hand typed translation is from calling goolgetrans and is saved to avoid\n",
    "# repetitive translation. This translation has nothing to do with model accuracy,\n",
    "# but can help understanding the data.\n",
    "d1 = dict(zip(cates.cate1.unique(), \n",
    "              ['PC', 'Accessories', 'Tickets', 'Delivery of goods',\n",
    "               'Game consoles', 'Games', 'Android games', 'MAC Games', 'PC games',\n",
    "               'Payment cards', 'Movie', 'Books', 'Music', 'Presents', 'Programs',\n",
    "               'Service', 'Clean media', 'Batteries']))\n",
    "          \n",
    "d2 = dict(zip(cates.cate2.unique(), \n",
    "              ['Headsets / Headphones', 'PS2', 'PS3', 'PS4', 'PSP',\n",
    "               'Playstation Vita', 'XBOX 360', 'XBOX ONE', np.nan, 'Other',\n",
    "               'Game accessories', 'Numeral', 'Additional editions',\n",
    "               'Collectible Editions', 'Standard Editions', 'Live', 'PSN',\n",
    "               'Windows', 'Blu', 'DVD', \"Collector's\", 'Artbooks', 'Audiobooks',\n",
    "               'Audiobooks 1C', 'Business literature', 'Comics',\n",
    "               'Computer literature', 'Methodical materials 1C', 'Postcards',\n",
    "               'Cognitive literature', 'Guides', 'Fiction',\n",
    "               'Local Production CD', 'CD branded production', 'MP3', 'Vinyl',\n",
    "               'Music video', 'Gift Edition', 'Attributes', 'Gadgets',\n",
    "               'Stuffed Toys', 'Board games', 'Development', 'Certificates',\n",
    "               'Souvenirs', 'Bags', 'Figures', '1C', 'MAC', 'For home and office',\n",
    "               'Educational', 'Tickets']))\n",
    "          \n",
    "d3 = dict(zip(cates.cate3.unique(),\n",
    "              [np.nan, 'Numeral', 'compact', 'in the sample', 'spire', 'piece']))"
   ]
  },
  {
   "cell_type": "code",
   "execution_count": 32,
   "metadata": {
    "scrolled": false
   },
   "outputs": [
    {
     "data": {
      "text/html": [
       "<div>\n",
       "<style scoped>\n",
       "    .dataframe tbody tr th:only-of-type {\n",
       "        vertical-align: middle;\n",
       "    }\n",
       "\n",
       "    .dataframe tbody tr th {\n",
       "        vertical-align: top;\n",
       "    }\n",
       "\n",
       "    .dataframe thead th {\n",
       "        text-align: right;\n",
       "    }\n",
       "</style>\n",
       "<table border=\"1\" class=\"dataframe\">\n",
       "  <thead>\n",
       "    <tr style=\"text-align: right;\">\n",
       "      <th></th>\n",
       "      <th>item_category_name</th>\n",
       "      <th>item_category_id</th>\n",
       "      <th>cate1</th>\n",
       "      <th>cate2</th>\n",
       "      <th>cate3</th>\n",
       "    </tr>\n",
       "  </thead>\n",
       "  <tbody>\n",
       "    <tr>\n",
       "      <th>35</th>\n",
       "      <td>Карты оплаты - PSN</td>\n",
       "      <td>35</td>\n",
       "      <td>Payment cards</td>\n",
       "      <td>PSN</td>\n",
       "      <td>other</td>\n",
       "    </tr>\n",
       "    <tr>\n",
       "      <th>59</th>\n",
       "      <td>Музыка - Музыкальное видео</td>\n",
       "      <td>59</td>\n",
       "      <td>Music</td>\n",
       "      <td>Music video</td>\n",
       "      <td>other</td>\n",
       "    </tr>\n",
       "    <tr>\n",
       "      <th>23</th>\n",
       "      <td>Игры - XBOX 360</td>\n",
       "      <td>23</td>\n",
       "      <td>Games</td>\n",
       "      <td>XBOX 360</td>\n",
       "      <td>other</td>\n",
       "    </tr>\n",
       "    <tr>\n",
       "      <th>61</th>\n",
       "      <td>Подарки - Атрибутика</td>\n",
       "      <td>61</td>\n",
       "      <td>Presents</td>\n",
       "      <td>Attributes</td>\n",
       "      <td>other</td>\n",
       "    </tr>\n",
       "    <tr>\n",
       "      <th>10</th>\n",
       "      <td>Игровые консоли - PS2</td>\n",
       "      <td>10</td>\n",
       "      <td>Game consoles</td>\n",
       "      <td>PS2</td>\n",
       "      <td>other</td>\n",
       "    </tr>\n",
       "  </tbody>\n",
       "</table>\n",
       "</div>"
      ],
      "text/plain": [
       "            item_category_name  item_category_id          cate1        cate2  \\\n",
       "35          Карты оплаты - PSN                35  Payment cards          PSN   \n",
       "59  Музыка - Музыкальное видео                59          Music  Music video   \n",
       "23             Игры - XBOX 360                23          Games     XBOX 360   \n",
       "61        Подарки - Атрибутика                61       Presents   Attributes   \n",
       "10       Игровые консоли - PS2                10  Game consoles          PS2   \n",
       "\n",
       "    cate3  \n",
       "35  other  \n",
       "59  other  \n",
       "23  other  \n",
       "61  other  \n",
       "10  other  "
      ]
     },
     "execution_count": 32,
     "metadata": {},
     "output_type": "execute_result"
    }
   ],
   "source": [
    "# Now add parsed and translated category name into our data\n",
    "for col, d in zip(['cate1', 'cate2', 'cate3'], [d1, d2, d3]):\n",
    "    cates[col] = cates[col].map(d).fillna('other')\n",
    "\n",
    "dump(cates, '../post/cates.csv')\n",
    "cates.sample(5)"
   ]
  },
  {
   "cell_type": "markdown",
   "metadata": {},
   "source": [
    "### 3. Item average price"
   ]
  },
  {
   "cell_type": "code",
   "execution_count": 33,
   "metadata": {},
   "outputs": [],
   "source": [
    "# Get item average price\n",
    "items = items.merge(sales.groupby('item_id', as_index=False)['item_price'].mean(), on=['item_id'], how='left')"
   ]
  },
  {
   "cell_type": "code",
   "execution_count": 34,
   "metadata": {},
   "outputs": [],
   "source": [
    "# Get category average price\n",
    "cateavgprice = items.groupby('item_category_id')['item_price'].mean()\n",
    "\n",
    "# Use category average price to fill na values\n",
    "items.loc[items.item_price.isna(), 'item_price'] = (items.loc[items.item_price.isna(), 'item_category_id']\n",
    "                                                    .map(cateavgprice)\n",
    "                                                   )"
   ]
  },
  {
   "cell_type": "code",
   "execution_count": 35,
   "metadata": {},
   "outputs": [],
   "source": [
    "# Merge items and cates\n",
    "items = items.merge(cates.iloc[:,1:], on='item_category_id', how='left')"
   ]
  },
  {
   "cell_type": "markdown",
   "metadata": {},
   "source": [
    "### 4. Put everything together"
   ]
  },
  {
   "cell_type": "code",
   "execution_count": 36,
   "metadata": {},
   "outputs": [],
   "source": [
    "# Merge train and test\n",
    "\n",
    "test['date_block_num'] = 34\n",
    "\n",
    "data = pd.concat([data, test], ignore_index=True, sort=False, \n",
    "                 keys=['shop_id', 'item_id', 'date_block_num'])"
   ]
  },
  {
   "cell_type": "code",
   "execution_count": 37,
   "metadata": {},
   "outputs": [],
   "source": [
    "# Merge data with shops and items data\n",
    "data = (data.merge(shops.iloc[:,1:], on=['shop_id'], how='left')\n",
    "        .merge(items.iloc[:,1:], on=['item_id'], how='left')\n",
    "       )"
   ]
  },
  {
   "cell_type": "code",
   "execution_count": 38,
   "metadata": {},
   "outputs": [],
   "source": [
    "# Shrink memory usage\n",
    "for c in data.select_dtypes(['float64']):\n",
    "    data[c] = data[c].fillna(0).astype('float32')\n",
    "\n",
    "for c in data.select_dtypes(['int64']):\n",
    "    data[c] = data[c].astype('int16')"
   ]
  },
  {
   "cell_type": "markdown",
   "metadata": {},
   "source": [
    "### 5. Lag target features"
   ]
  },
  {
   "cell_type": "code",
   "execution_count": 39,
   "metadata": {},
   "outputs": [],
   "source": [
    "# This function is from Denis Larionov's kernel\n",
    "def lag_feature(df, lags, col):\n",
    "    tmp = df[['date_block_num','shop_id','item_id',col]]\n",
    "    for i in lags:\n",
    "        shifted = tmp.copy()\n",
    "        shifted.columns = ['date_block_num','shop_id','item_id', col+'_lag_'+str(i)]\n",
    "        shifted['date_block_num'] += i\n",
    "        df = pd.merge(df, shifted, on=['date_block_num','shop_id','item_id'], how='left')\n",
    "    return df"
   ]
  },
  {
   "cell_type": "code",
   "execution_count": 40,
   "metadata": {},
   "outputs": [],
   "source": [
    "# Lag target feature by 1, 2 ,3, 4, 5, 6 and 12 months\n",
    "data = lag_feature(data, [1, 2, 3, 4, 5, 6, 12], TARGET)"
   ]
  },
  {
   "cell_type": "code",
   "execution_count": 41,
   "metadata": {},
   "outputs": [],
   "source": [
    "# Convert all lag features to `float32`\n",
    "for c in data.columns:\n",
    "    if '_lag_' in c:\n",
    "        data[c] = data[c].fillna(0).astype('float32')"
   ]
  },
  {
   "cell_type": "markdown",
   "metadata": {},
   "source": [
    "### 6. Some other features.\n",
    "\n",
    "1. `price_change_from_max`: the difference between the most recent price in last month and the greatest price per item.\n",
    "2. `price_change_from_last_month`: the difference between the most recent price in last month and the most recent price in the month before.\n",
    "3. `days_after_first_sale`: number of days after the first sale per shop-item.\n",
    "4. `days_from_last_sale`: number of days after the most recent sale per item.\n",
    "5. `month`, `days`: month in a year and number of days in this month."
   ]
  },
  {
   "cell_type": "code",
   "execution_count": 42,
   "metadata": {},
   "outputs": [],
   "source": [
    "sorted_sales = sales.sort_values(by='date')"
   ]
  },
  {
   "cell_type": "code",
   "execution_count": 43,
   "metadata": {},
   "outputs": [],
   "source": [
    "# For each month (first day of each month), find the time and price of the latest previous sale.\n",
    "last_sale = []\n",
    "for i in range(1, 35):\n",
    "    temp = (sorted_sales[sorted_sales.date_block_num<i]\n",
    "            .groupby(['shop_id', 'item_id'], as_index=False)\n",
    "            .agg({'date':'max', 'item_price':'last'})\n",
    "            .rename(columns={'date':'last_sale_date',\n",
    "                             'item_price':'last_price'})\n",
    "           )\n",
    "    temp['date_block_num'] = i\n",
    "    last_sale.append(temp)\n",
    "\n",
    "last_sale = pd.concat(last_sale, ignore_index=True)\n",
    "\n",
    "\n",
    "\n",
    "# Also find the max price and first sale date.\n",
    "max_and_first_sale = (sales.groupby(['item_id'])\n",
    "                      .agg({'item_price':'max',\n",
    "                            'date':'min'})\n",
    "                      )"
   ]
  },
  {
   "cell_type": "code",
   "execution_count": 44,
   "metadata": {},
   "outputs": [],
   "source": [
    "# Generate useful data\n",
    "last_sale['days_from_last_sale'] = (last_sale.date_block_num.map(DS)\n",
    "                                    - last_sale.last_sale_date)\n",
    "last_sale['price_change_from_max'] = last_sale.last_price - last_sale.item_id.map(max_and_first_sale['item_price'])\n",
    "last_sale = lag_feature(last_sale, [1], 'last_price')\n",
    "last_sale['price_change_from_last_month'] = last_sale.last_price - last_sale.last_price_lag_1\n",
    "\n",
    "last_sale['days_after_first_sale'] = (last_sale.date_block_num.map(DS) \n",
    "                                      - last_sale.item_id.map(max_and_first_sale['date']))"
   ]
  },
  {
   "cell_type": "code",
   "execution_count": 45,
   "metadata": {},
   "outputs": [],
   "source": [
    "# Merge them to main dataframe and change datatype\n",
    "last_sale.drop(columns=['last_sale_date', 'last_price_lag_1'], inplace=True)\n",
    "\n",
    "data = data.merge(last_sale, how='left')\n",
    "\n",
    "data.loc[data.last_price.isna(), 'last_price'] = data.loc[data.last_price.isna(), 'item_price']\n",
    "data['last_price'] = data['last_price'].astype('float32')\n",
    "\n",
    "data['days_from_last_sale'] = data.days_from_last_sale.fillna(pd.Timedelta('9999D')).dt.days.astype('int16')\n",
    "data['days_after_first_sale'] = data.days_after_first_sale.fillna(pd.Timedelta('9999D')).dt.days.astype('int16')\n",
    "\n",
    "data['price_change_from_max'] = data.price_change_from_max.fillna(0).astype('float32')\n",
    "data['price_change_from_last_month'] = data.price_change_from_last_month.fillna(0).astype('float32')"
   ]
  },
  {
   "cell_type": "code",
   "execution_count": 46,
   "metadata": {},
   "outputs": [],
   "source": [
    "# Days and month feature\n",
    "days = pd.Series([31, 28, 31, 30, 31, 30, 31, 31, 30, 31, 30, 31])\n",
    "data['month'] = (data['date_block_num'] % 12).astype('int16')\n",
    "data['days'] = data['month'].map(days).astype('int16')"
   ]
  },
  {
   "cell_type": "markdown",
   "metadata": {},
   "source": [
    "## Mean Encoding (including interaction)"
   ]
  },
  {
   "cell_type": "code",
   "execution_count": 47,
   "metadata": {},
   "outputs": [],
   "source": [
    "# Average target value is used to fill nan encoding, as suggested in the assignment.\n",
    "AVG = data[TARGET].mean()\n",
    "\n",
    "def kfold_mean_encoding(all_data, cols, target=TARGET):\n",
    "    \"\"\"\n",
    "    Mean encoding with KFold cv scheme. Can encode multiple categorical columns (interaction).\n",
    "    When `cols` is a list of columns, then encoding are based on the combination of all these columns.\n",
    "    \"\"\"\n",
    "    data = all_data.copy()\n",
    "    from sklearn.model_selection import KFold\n",
    "    tr_id = np.nonzero(data['date_block_num']<33)[0]\n",
    "    colname = cols if isinstance(cols, str) else '-'.join(cols)\n",
    "    colname += '-enc'\n",
    "    data[colname] = np.nan\n",
    "    kf = KFold(5, False)\n",
    "    for other, this in kf.split(tr_id):\n",
    "        code = data.iloc[tr_id[other]].groupby(cols)[target].mean()\n",
    "        data.loc[data.index[tr_id[this]], colname] = \\\n",
    "            data.iloc[tr_id[this]].set_index(cols).index.map(code).fillna(AVG)\n",
    "    return data\n",
    "\n",
    "\n",
    "def encode_valid_test(all_data, cols, target=TARGET):\n",
    "    \"\"\"For validation and test set, mean encoding is from train data.\"\"\"\n",
    "    data = all_data.copy()\n",
    "    tr_id = np.nonzero(data['date_block_num']<33)[0]\n",
    "    vt_id = np.nonzero(data['date_block_num']>=33)[0]\n",
    "    colname = cols if isinstance(cols, str) else '-'.join(cols)\n",
    "    colname += '-enc'\n",
    "    code = data.iloc[tr_id].groupby(cols)[target].mean()\n",
    "    data.loc[data.index[vt_id], colname] = \\\n",
    "        data.iloc[vt_id].set_index(cols).index.map(code).fillna(AVG)\n",
    "    return data\n",
    "\n",
    "\n",
    "def encode(data, cols, target=TARGET):\n",
    "    \"\"\"Mean encoding whole data. KFold used for train set. Train set used for validation and test set\"\"\"\n",
    "    return (data.pipe(kfold_mean_encoding, cols, target)\n",
    "            .pipe(encode_valid_test, cols, target))\n",
    "\n",
    "\n",
    "def encodes(data, col_list, target=TARGET):\n",
    "    \"\"\"Do multiple encoding one by one.\"\"\"\n",
    "    ret = data\n",
    "    if isinstance(target, str):\n",
    "        target = repeat(target)\n",
    "    for col, tar in zip(col_list, target):\n",
    "        ret = encode(ret, col, tar)\n",
    "    return ret"
   ]
  },
  {
   "cell_type": "code",
   "execution_count": 48,
   "metadata": {},
   "outputs": [
    {
     "name": "stderr",
     "output_type": "stream",
     "text": [
      "/home/xhu4/.conda/envs/futuresales/lib/python3.7/site-packages/numpy/core/fromnumeric.py:51: FutureWarning: Series.nonzero() is deprecated and will be removed in a future version.Use Series.to_numpy().nonzero() instead\n",
      "  return getattr(obj, method)(*args, **kwds)\n"
     ]
    }
   ],
   "source": [
    "# Encode categorical features, and their interactions (['shop_id', 'cate1'], ['item_id', 'month'] etc. are the interactions encoding)\n",
    "data = encodes(data, ['item_id', 'shop_id', 'cate1', 'cate2', 'item_category_id',\n",
    "                      ['shop_id', 'cate1'], 'month', ['item_id', 'month'],\n",
    "                      ['shop_id', 'item_category_id'], ['shop_id', 'month'],\n",
    "                     ]\n",
    "              )\n",
    "\n",
    "for col in data.columns:\n",
    "    if '-enc' in col:\n",
    "        data.loc[:,col] = data[col].astype('float32')"
   ]
  },
  {
   "cell_type": "code",
   "execution_count": 5,
   "metadata": {},
   "outputs": [],
   "source": [
    "dump(data, '../post/data.pickle')"
   ]
  },
  {
   "cell_type": "markdown",
   "metadata": {},
   "source": [
    "## Build Model"
   ]
  },
  {
   "cell_type": "markdown",
   "metadata": {},
   "source": [
    "### 0. Split data\n",
    "\n",
    "__Validation Stratigies__:\n",
    "We use [*Simple holdout scheme*](https://www.coursera.org/learn/competitive-data-science/supplement/JThpg/validation-schemes-for-2-nd-level-models) for high-level validation. The data are splitted into train (`date_block_num<=33`) and test(`date_block_num==34`). Train set is then further splitted into three parts:\n",
    "\n",
    "- Part A: `date_block_num < 32`\n",
    "- Part B: `date_block_num == 32`\n",
    "- Part C: `date_block_num == 33`"
   ]
  },
  {
   "cell_type": "code",
   "execution_count": 1,
   "metadata": {},
   "outputs": [],
   "source": [
    "%reset -f\n",
    "%run utils.py\n",
    "data = load('../post/data.pickle')"
   ]
  },
  {
   "cell_type": "code",
   "execution_count": 2,
   "metadata": {},
   "outputs": [
    {
     "data": {
      "text/plain": [
       "7"
      ]
     },
     "execution_count": 2,
     "metadata": {},
     "output_type": "execute_result"
    }
   ],
   "source": [
    "train = data[data.date_block_num<=33]\n",
    "test  = data[data.date_block_num==34]\n",
    "\n",
    "partA = train[train.date_block_num<32]\n",
    "partB = train[train.date_block_num==32]\n",
    "partC = train[train.date_block_num==33]\n",
    "\n",
    "del data\n",
    "collect()\n",
    "\n",
    "def xy_split(data, clip='y'):\n",
    "    \"\"\"\n",
    "    Split data into x and y.\n",
    "    `clip` specifies whether to clip TARGET (`item_cnt_month`) and lag features.\n",
    "    \n",
    "    `clip` can be:\n",
    "        'x': clip lag features in x only\n",
    "        'y': clip target `item_cnt_month` in y only\n",
    "        'xy': clip both\n",
    "        'none': do not clip\n",
    "    \"\"\"\n",
    "    assert clip in ['x', 'y', 'xy', 'none']\n",
    "    \n",
    "    x, y = data.drop(columns=[TARGET]), data[TARGET]\n",
    "    \n",
    "    if 'x' in clip:\n",
    "        lagcols = [col for col in x.columns if 'lag' in col]\n",
    "        x.loc[:, lagcols] = x[lagcols].clip(0, 20)\n",
    "        \n",
    "    if 'y' in clip:\n",
    "        y = y.clip(0, 20)\n",
    "        \n",
    "    return x, y"
   ]
  },
  {
   "cell_type": "markdown",
   "metadata": {},
   "source": [
    "### 1. XGBoost"
   ]
  },
  {
   "cell_type": "markdown",
   "metadata": {},
   "source": [
    "Feature selection"
   ]
  },
  {
   "cell_type": "code",
   "execution_count": 3,
   "metadata": {},
   "outputs": [],
   "source": [
    "# Filter data: We use data with date_block_num >= least_month\n",
    "least_month = 6\n",
    "\n",
    "# Select features:\n",
    "features = [\n",
    "                TARGET,      # Will be splitted into the 'y' part\n",
    "#                 'shop_id',\n",
    "#                 'item_id',\n",
    "                'date_block_num',\n",
    "                'lat',\n",
    "                'lng',\n",
    "#                 'item_category_id',\n",
    "#                 'item_price',\n",
    "#                 'cate1',\n",
    "#                 'cate2',\n",
    "#                 'cate3',\n",
    "                'item_cnt_month_lag_1',\n",
    "                'item_cnt_month_lag_2',\n",
    "                'item_cnt_month_lag_3',\n",
    "                'item_cnt_month_lag_4',\n",
    "                'item_cnt_month_lag_5',\n",
    "                'item_cnt_month_lag_6',\n",
    "                'item_cnt_month_lag_12',\n",
    "#                 'last_price',\n",
    "                'days_from_last_sale',\n",
    "                'price_change_from_max',\n",
    "                'price_change_from_last_month',\n",
    "                'days_after_first_sale',\n",
    "                'month',\n",
    "#                 'days', \n",
    "#                 'item_id-enc',\n",
    "                'shop_id-enc',\n",
    "                'cate1-enc',\n",
    "#                 'cate2-enc',\n",
    "                'item_category_id-enc',\n",
    "                'shop_id-cate1-enc',\n",
    "                'month-enc',\n",
    "                'shop_id-item_category_id-enc',\n",
    "                'shop_id-month-enc',\n",
    "]"
   ]
  },
  {
   "cell_type": "code",
   "execution_count": 4,
   "metadata": {},
   "outputs": [],
   "source": [
    "xgbselect = lambda x: x.loc[x.date_block_num>=least_month, features]"
   ]
  },
  {
   "cell_type": "code",
   "execution_count": 5,
   "metadata": {},
   "outputs": [],
   "source": [
    "import xgboost as xgb\n",
    "xgbtrain = xgb.DMatrix(*xy_split(xgbselect(partA)))\n",
    "xgbvalidB = xgb.DMatrix(*xy_split(xgbselect(partB)))\n",
    "xgbvalidC = xgb.DMatrix(*xy_split(xgbselect(partC)))\n",
    "watchlist  = [(xgbtrain,'train'), (xgbvalidB, 'B'), (xgbvalidC, 'C')]"
   ]
  },
  {
   "cell_type": "code",
   "execution_count": 6,
   "metadata": {},
   "outputs": [],
   "source": [
    "xgbparams = {\n",
    "         'max_depth': 8,\n",
    "#          'objective':'reg:tweedie',\n",
    "         'feature_selector':'random',\n",
    "         'verbosity':3,\n",
    "         'silent':0,\n",
    "         'min_child_weight':200,\n",
    "         'colsample_bytree':0.7,\n",
    "         'subsample':0.7,\n",
    "         'tree_method': 'gpu_hist', # Uncomment if use GPU\n",
    "         'eta':0.05,\n",
    "         'seed':10,\n",
    "         'eval_metric':'rmse',\n",
    "}"
   ]
  },
  {
   "cell_type": "code",
   "execution_count": 7,
   "metadata": {
    "scrolled": false
   },
   "outputs": [
    {
     "name": "stdout",
     "output_type": "stream",
     "text": [
      "[0]\ttrain-rmse:1.21266\tB-rmse:1.15709\tC-rmse:1.07405\n",
      "Multiple eval metrics have been passed: 'C-rmse' will be used for early stopping.\n",
      "\n",
      "Will train until C-rmse hasn't improved in 200 rounds.\n",
      "[10]\ttrain-rmse:1.03394\tB-rmse:1.01044\tC-rmse:0.920741\n",
      "[20]\ttrain-rmse:0.954343\tB-rmse:0.950572\tC-rmse:0.858101\n",
      "[30]\ttrain-rmse:0.915915\tB-rmse:0.923075\tC-rmse:0.831915\n",
      "[40]\ttrain-rmse:0.897334\tB-rmse:0.910719\tC-rmse:0.819898\n",
      "[50]\ttrain-rmse:0.887097\tB-rmse:0.904738\tC-rmse:0.814308\n",
      "[60]\ttrain-rmse:0.880608\tB-rmse:0.900693\tC-rmse:0.810813\n",
      "[70]\ttrain-rmse:0.876724\tB-rmse:0.898282\tC-rmse:0.80964\n",
      "[80]\ttrain-rmse:0.873735\tB-rmse:0.896578\tC-rmse:0.808951\n",
      "[90]\ttrain-rmse:0.871419\tB-rmse:0.895467\tC-rmse:0.807985\n",
      "[100]\ttrain-rmse:0.869484\tB-rmse:0.89442\tC-rmse:0.80706\n",
      "[110]\ttrain-rmse:0.86801\tB-rmse:0.894337\tC-rmse:0.806568\n",
      "[120]\ttrain-rmse:0.866661\tB-rmse:0.894637\tC-rmse:0.80646\n",
      "[130]\ttrain-rmse:0.865494\tB-rmse:0.894458\tC-rmse:0.806124\n",
      "[140]\ttrain-rmse:0.864286\tB-rmse:0.894013\tC-rmse:0.805736\n",
      "[150]\ttrain-rmse:0.863379\tB-rmse:0.894114\tC-rmse:0.805531\n",
      "[160]\ttrain-rmse:0.862479\tB-rmse:0.893885\tC-rmse:0.80525\n",
      "[170]\ttrain-rmse:0.86152\tB-rmse:0.894338\tC-rmse:0.804896\n",
      "[180]\ttrain-rmse:0.860575\tB-rmse:0.89373\tC-rmse:0.804497\n",
      "[190]\ttrain-rmse:0.859818\tB-rmse:0.893861\tC-rmse:0.804088\n",
      "[200]\ttrain-rmse:0.858984\tB-rmse:0.893672\tC-rmse:0.804039\n",
      "[210]\ttrain-rmse:0.858379\tB-rmse:0.893534\tC-rmse:0.803754\n",
      "[220]\ttrain-rmse:0.857659\tB-rmse:0.893492\tC-rmse:0.803567\n",
      "[230]\ttrain-rmse:0.856904\tB-rmse:0.893415\tC-rmse:0.803509\n",
      "[240]\ttrain-rmse:0.85649\tB-rmse:0.893292\tC-rmse:0.803521\n",
      "[250]\ttrain-rmse:0.855754\tB-rmse:0.893331\tC-rmse:0.803525\n",
      "[260]\ttrain-rmse:0.855041\tB-rmse:0.893023\tC-rmse:0.803414\n",
      "[270]\ttrain-rmse:0.854381\tB-rmse:0.893107\tC-rmse:0.80324\n",
      "[280]\ttrain-rmse:0.85387\tB-rmse:0.893269\tC-rmse:0.803289\n",
      "[290]\ttrain-rmse:0.853367\tB-rmse:0.893352\tC-rmse:0.803216\n",
      "[300]\ttrain-rmse:0.852992\tB-rmse:0.893424\tC-rmse:0.80316\n",
      "[310]\ttrain-rmse:0.852565\tB-rmse:0.893345\tC-rmse:0.803095\n",
      "[320]\ttrain-rmse:0.852237\tB-rmse:0.89354\tC-rmse:0.802958\n",
      "[330]\ttrain-rmse:0.851801\tB-rmse:0.89329\tC-rmse:0.803035\n",
      "[340]\ttrain-rmse:0.851326\tB-rmse:0.892971\tC-rmse:0.803089\n",
      "[350]\ttrain-rmse:0.850987\tB-rmse:0.892833\tC-rmse:0.802961\n",
      "[360]\ttrain-rmse:0.850463\tB-rmse:0.892996\tC-rmse:0.803042\n",
      "[370]\ttrain-rmse:0.850069\tB-rmse:0.892998\tC-rmse:0.80303\n",
      "[380]\ttrain-rmse:0.849683\tB-rmse:0.893076\tC-rmse:0.803031\n",
      "[390]\ttrain-rmse:0.84938\tB-rmse:0.893192\tC-rmse:0.802997\n",
      "[400]\ttrain-rmse:0.848904\tB-rmse:0.893104\tC-rmse:0.802867\n",
      "[410]\ttrain-rmse:0.848459\tB-rmse:0.892875\tC-rmse:0.802658\n",
      "[420]\ttrain-rmse:0.848074\tB-rmse:0.892989\tC-rmse:0.802581\n",
      "[430]\ttrain-rmse:0.847625\tB-rmse:0.892951\tC-rmse:0.802651\n",
      "[440]\ttrain-rmse:0.847214\tB-rmse:0.892817\tC-rmse:0.802519\n",
      "[450]\ttrain-rmse:0.846954\tB-rmse:0.892819\tC-rmse:0.802389\n",
      "[460]\ttrain-rmse:0.846738\tB-rmse:0.892803\tC-rmse:0.802481\n",
      "[470]\ttrain-rmse:0.846458\tB-rmse:0.892617\tC-rmse:0.802453\n",
      "[480]\ttrain-rmse:0.846185\tB-rmse:0.892585\tC-rmse:0.802521\n",
      "[490]\ttrain-rmse:0.845892\tB-rmse:0.8924\tC-rmse:0.80253\n",
      "[500]\ttrain-rmse:0.845521\tB-rmse:0.892424\tC-rmse:0.802384\n",
      "[510]\ttrain-rmse:0.845264\tB-rmse:0.892435\tC-rmse:0.802369\n",
      "[520]\ttrain-rmse:0.844943\tB-rmse:0.892569\tC-rmse:0.802386\n",
      "[530]\ttrain-rmse:0.844473\tB-rmse:0.892801\tC-rmse:0.80235\n",
      "[540]\ttrain-rmse:0.844234\tB-rmse:0.892666\tC-rmse:0.802341\n",
      "[550]\ttrain-rmse:0.843969\tB-rmse:0.892767\tC-rmse:0.802289\n",
      "[560]\ttrain-rmse:0.843666\tB-rmse:0.892649\tC-rmse:0.80224\n",
      "[570]\ttrain-rmse:0.843419\tB-rmse:0.892484\tC-rmse:0.802231\n",
      "[580]\ttrain-rmse:0.843204\tB-rmse:0.892571\tC-rmse:0.802258\n",
      "[590]\ttrain-rmse:0.842887\tB-rmse:0.892448\tC-rmse:0.802336\n",
      "[600]\ttrain-rmse:0.842564\tB-rmse:0.892626\tC-rmse:0.802472\n",
      "[610]\ttrain-rmse:0.842381\tB-rmse:0.892592\tC-rmse:0.802403\n",
      "[620]\ttrain-rmse:0.842176\tB-rmse:0.892548\tC-rmse:0.802428\n",
      "[630]\ttrain-rmse:0.841916\tB-rmse:0.892358\tC-rmse:0.80222\n",
      "[640]\ttrain-rmse:0.841716\tB-rmse:0.892293\tC-rmse:0.802261\n",
      "[650]\ttrain-rmse:0.841442\tB-rmse:0.892278\tC-rmse:0.80226\n",
      "[660]\ttrain-rmse:0.841241\tB-rmse:0.892364\tC-rmse:0.802321\n",
      "[670]\ttrain-rmse:0.841029\tB-rmse:0.892418\tC-rmse:0.802424\n",
      "[680]\ttrain-rmse:0.840778\tB-rmse:0.893154\tC-rmse:0.802458\n",
      "[690]\ttrain-rmse:0.840576\tB-rmse:0.893121\tC-rmse:0.802469\n",
      "[700]\ttrain-rmse:0.840354\tB-rmse:0.893289\tC-rmse:0.802473\n",
      "[710]\ttrain-rmse:0.840158\tB-rmse:0.893261\tC-rmse:0.802445\n",
      "[720]\ttrain-rmse:0.839957\tB-rmse:0.89326\tC-rmse:0.802437\n",
      "[730]\ttrain-rmse:0.839646\tB-rmse:0.893462\tC-rmse:0.802475\n",
      "[740]\ttrain-rmse:0.83944\tB-rmse:0.893361\tC-rmse:0.802545\n",
      "[750]\ttrain-rmse:0.839208\tB-rmse:0.893223\tC-rmse:0.802435\n",
      "[760]\ttrain-rmse:0.838973\tB-rmse:0.893169\tC-rmse:0.80233\n",
      "[770]\ttrain-rmse:0.838792\tB-rmse:0.893158\tC-rmse:0.802396\n",
      "Stopping. Best iteration:\n",
      "[577]\ttrain-rmse:0.843252\tB-rmse:0.892588\tC-rmse:0.802206\n",
      "\n"
     ]
    },
    {
     "data": {
      "text/plain": [
       "<matplotlib.axes._subplots.AxesSubplot at 0x2b3960643ac8>"
      ]
     },
     "execution_count": 7,
     "metadata": {},
     "output_type": "execute_result"
    },
    {
     "data": {
      "image/png": "[encoded data removed]",
      "text/plain": [
       "<Figure size 720x1008 with 1 Axes>"
      ]
     },
     "metadata": {
      "needs_background": "light"
     },
     "output_type": "display_data"
    }
   ],
   "source": [
    "bst = xgb.train(xgbparams, xgbtrain,\n",
    "                evals=watchlist,\n",
    "                num_boost_round=5000,\n",
    "                early_stopping_rounds=200,\n",
    "                verbose_eval=10)\n",
    "\n",
    "f = plt.figure(figsize=(10, 14))\n",
    "xgb.plot_importance(bst, plt.gca())"
   ]
  },
  {
   "cell_type": "code",
   "execution_count": 9,
   "metadata": {},
   "outputs": [],
   "source": [
    "# Best Iteration (Your result is almost guaranteed to be different than mine. But the score should be close)\n",
    "best_it = 577\n",
    "xgbtest = xgb.DMatrix(xy_split(xgbselect(test))[0])\n",
    "xgb_meta_B = bst.predict(xgbvalidB, ntree_limit=best_it)\n",
    "xgb_meta_C = bst.predict(xgbvalidC, ntree_limit=best_it)\n",
    "xgb_meta_test = bst.predict(xgbtest, ntree_limit=best_it)"
   ]
  },
  {
   "cell_type": "markdown",
   "metadata": {},
   "source": [
    "### 2. Support Vector Machine"
   ]
  },
  {
   "cell_type": "code",
   "execution_count": 10,
   "metadata": {},
   "outputs": [],
   "source": [
    "# Select features for svm model:\n",
    "svm_features = [\n",
    "                TARGET,\n",
    "#                 'shop_id',\n",
    "#                 'item_id',\n",
    "                'date_block_num',\n",
    "                'lat',\n",
    "                'lng',\n",
    "                'item_cnt_month_lag_1',\n",
    "                'item_cnt_month_lag_2',\n",
    "                'item_cnt_month_lag_3',\n",
    "                'item_cnt_month_lag_4',\n",
    "                'item_cnt_month_lag_5',\n",
    "                'item_cnt_month_lag_6',\n",
    "                'item_cnt_month_lag_12',\n",
    "#                 'last_price',\n",
    "                'days_from_last_sale',\n",
    "                'price_change_from_max',\n",
    "                'price_change_from_last_month',\n",
    "                'days_after_first_sale',\n",
    "                'month',\n",
    "#                 'days', \n",
    "#                 'item_id-enc',\n",
    "                'shop_id-enc',\n",
    "                'cate1-enc',\n",
    "#                 'cate2-enc',\n",
    "                'item_category_id-enc',\n",
    "                'shop_id-cate1-enc',\n",
    "                'month-enc',\n",
    "                'shop_id-item_category_id-enc',\n",
    "                'shop_id-month-enc',\n",
    "]"
   ]
  },
  {
   "cell_type": "code",
   "execution_count": 11,
   "metadata": {},
   "outputs": [],
   "source": [
    "svmfilter = lambda x: x.loc[x['date_block_num']>least_month, x.columns[x.columns.isin(svm_features)]].astype('float64')\n",
    "\n",
    "X_partA, Y_partA = xy_split(svmfilter(partA), clip='none')\n",
    "X_partB, Y_partB = xy_split(svmfilter(partB), clip='none')\n",
    "X_partC, Y_partC = xy_split(svmfilter(partC), clip='none')\n",
    "X_test, _ = xy_split(svmfilter(test), clip='none')"
   ]
  },
  {
   "cell_type": "markdown",
   "metadata": {},
   "source": [
    "__Preprocessing our data for SVM__:\n",
    "Normalization"
   ]
  },
  {
   "cell_type": "code",
   "execution_count": 12,
   "metadata": {},
   "outputs": [],
   "source": [
    "from sklearn import preprocessing\n",
    "from sklearn.svm import LinearSVR\n",
    "\n",
    "# Standard normalization on the whole train set\n",
    "scaler = preprocessing.StandardScaler().fit(xy_split(svmfilter(train))[0])\n",
    "X_partA, X_partB, X_partC, X_test = (scaler.transform(x) for x in (X_partA, X_partB, X_partC, X_test))"
   ]
  },
  {
   "cell_type": "markdown",
   "metadata": {},
   "source": [
    "Now train the model"
   ]
  },
  {
   "cell_type": "code",
   "execution_count": 16,
   "metadata": {},
   "outputs": [
    {
     "data": {
      "text/plain": [
       "LinearSVR(C=0.2, dual=False, epsilon=0.1, fit_intercept=True,\n",
       "     intercept_scaling=1.0, loss='squared_epsilon_insensitive',\n",
       "     max_iter=10000, random_state=3, tol=1e-06, verbose=0)"
      ]
     },
     "execution_count": 16,
     "metadata": {},
     "output_type": "execute_result"
    }
   ],
   "source": [
    "svr = LinearSVR(\n",
    "    loss = 'squared_epsilon_insensitive',  # For L2 loss\n",
    "    epsilon = 0.1,\n",
    "    random_state = 3,\n",
    "    dual = False,   # As we have much more samples than features\n",
    "    tol = 1e-6,\n",
    "    C = 0.2,\n",
    "    max_iter = 10000\n",
    ")\n",
    "svr.fit(X_partA, Y_partA)"
   ]
  },
  {
   "cell_type": "code",
   "execution_count": 17,
   "metadata": {},
   "outputs": [
    {
     "data": {
      "text/plain": [
       "0.9894900867921557"
      ]
     },
     "execution_count": 17,
     "metadata": {},
     "output_type": "execute_result"
    },
    {
     "data": {
      "text/plain": [
       "0.897310934987849"
      ]
     },
     "execution_count": 17,
     "metadata": {},
     "output_type": "execute_result"
    }
   ],
   "source": [
    "score(svr.predict(X_partB), Y_partB)\n",
    "score(svr.predict(X_partC), Y_partC)"
   ]
  },
  {
   "cell_type": "code",
   "execution_count": 18,
   "metadata": {},
   "outputs": [],
   "source": [
    "svm_meta_B = svr.predict(X_partB)\n",
    "svm_meta_C = svr.predict(X_partC)\n",
    "svm_meta_test = svr.predict(X_test)"
   ]
  },
  {
   "cell_type": "markdown",
   "metadata": {},
   "source": [
    "### 3. Ensembling"
   ]
  },
  {
   "cell_type": "markdown",
   "metadata": {},
   "source": [
    "Strategy: weighted average:\n",
    "$$ \\alpha\\cdot p_{xgb} + (1-\\alpha)\\cdot p_{svm}, $$\n",
    "where $p_{xgb}$ and $p_{svm}$ are the predictions from `xgb` model and `svm` model respectively."
   ]
  },
  {
   "cell_type": "code",
   "execution_count": 19,
   "metadata": {},
   "outputs": [],
   "source": [
    "X_metaB = np.column_stack([xgb_meta_B, svm_meta_B])\n",
    "X_metaC = np.column_stack([xgb_meta_C, svm_meta_C])\n",
    "X_meta_test = np.column_stack([xgb_meta_test, svm_meta_test])"
   ]
  },
  {
   "cell_type": "code",
   "execution_count": 20,
   "metadata": {},
   "outputs": [],
   "source": [
    "meta_predict = lambda data, alpha: np.average(data, axis=1, weights=[alpha, 1-alpha])"
   ]
  },
  {
   "cell_type": "code",
   "execution_count": 21,
   "metadata": {},
   "outputs": [
    {
     "name": "stdout",
     "output_type": "stream",
     "text": [
      "alpha: 0.000000, Bscore:0.989490, Cscore: 0.897311\n",
      "alpha: 0.100000, Bscore:0.973435, Cscore: 0.881512\n",
      "alpha: 0.200000, Bscore:0.958754, Cscore: 0.866586\n",
      "alpha: 0.300000, Bscore:0.945416, Cscore: 0.852717\n",
      "alpha: 0.400000, Bscore:0.933126, Cscore: 0.840282\n",
      "alpha: 0.500000, Bscore:0.921459, Cscore: 0.829459\n",
      "alpha: 0.600000, Bscore:0.911725, Cscore: 0.820430\n",
      "alpha: 0.700000, Bscore:0.903764, Cscore: 0.812641\n",
      "alpha: 0.800000, Bscore:0.897748, Cscore: 0.806786\n",
      "alpha: 0.900000, Bscore:0.893989, Cscore: 0.803225\n",
      "alpha: 1.000000, Bscore:0.892524, Cscore: 0.802171\n"
     ]
    }
   ],
   "source": [
    "# Use a brute line search to determine alpha\n",
    "for alpha in np.linspace(0, 1, 11):\n",
    "    print('alpha: %f, Bscore:%f, Cscore: %f'%(\n",
    "              alpha,\n",
    "              score(meta_predict(X_metaB, alpha), Y_partB),\n",
    "              score(meta_predict(X_metaC, alpha), Y_partC),\n",
    "              )\n",
    "         )"
   ]
  },
  {
   "cell_type": "code",
   "execution_count": 22,
   "metadata": {},
   "outputs": [
    {
     "name": "stdout",
     "output_type": "stream",
     "text": [
      "alpha: 0.900000, Bscore: 0.893989, Cscore:  0.803225\n",
      "alpha: 0.901000, Bscore: 0.893954, Cscore:  0.803201\n",
      "alpha: 0.902000, Bscore: 0.893919, Cscore:  0.803178\n",
      "alpha: 0.903000, Bscore: 0.893885, Cscore:  0.803155\n",
      "alpha: 0.904000, Bscore: 0.893850, Cscore:  0.803132\n",
      "alpha: 0.905000, Bscore: 0.893817, Cscore:  0.803109\n",
      "alpha: 0.906000, Bscore: 0.893783, Cscore:  0.803087\n",
      "alpha: 0.907000, Bscore: 0.893750, Cscore:  0.803065\n",
      "alpha: 0.908000, Bscore: 0.893718, Cscore:  0.803043\n",
      "alpha: 0.909000, Bscore: 0.893685, Cscore:  0.803022\n",
      "alpha: 0.910000, Bscore: 0.893653, Cscore:  0.803001\n",
      "alpha: 0.911000, Bscore: 0.893622, Cscore:  0.802980\n",
      "alpha: 0.912000, Bscore: 0.893591, Cscore:  0.802959\n",
      "alpha: 0.913000, Bscore: 0.893560, Cscore:  0.802939\n",
      "alpha: 0.914000, Bscore: 0.893530, Cscore:  0.802919\n",
      "alpha: 0.915000, Bscore: 0.893500, Cscore:  0.802899\n",
      "alpha: 0.916000, Bscore: 0.893471, Cscore:  0.802877\n",
      "alpha: 0.917000, Bscore: 0.893441, Cscore:  0.802856\n",
      "alpha: 0.918000, Bscore: 0.893413, Cscore:  0.802835\n",
      "alpha: 0.919000, Bscore: 0.893384, Cscore:  0.802814\n",
      "alpha: 0.920000, Bscore: 0.893356, Cscore:  0.802794\n",
      "alpha: 0.921000, Bscore: 0.893328, Cscore:  0.802774\n",
      "alpha: 0.922000, Bscore: 0.893300, Cscore:  0.802754\n",
      "alpha: 0.923000, Bscore: 0.893273, Cscore:  0.802734\n",
      "alpha: 0.924000, Bscore: 0.893245, Cscore:  0.802715\n",
      "alpha: 0.925000, Bscore: 0.893218, Cscore:  0.802696\n",
      "alpha: 0.926000, Bscore: 0.893192, Cscore:  0.802677\n",
      "alpha: 0.927000, Bscore: 0.893166, Cscore:  0.802658\n",
      "alpha: 0.928000, Bscore: 0.893140, Cscore:  0.802640\n",
      "alpha: 0.929000, Bscore: 0.893115, Cscore:  0.802622\n",
      "alpha: 0.930000, Bscore: 0.893090, Cscore:  0.802604\n",
      "alpha: 0.931000, Bscore: 0.893065, Cscore:  0.802587\n",
      "alpha: 0.932000, Bscore: 0.893041, Cscore:  0.802570\n",
      "alpha: 0.933000, Bscore: 0.893017, Cscore:  0.802553\n",
      "alpha: 0.934000, Bscore: 0.892994, Cscore:  0.802536\n",
      "alpha: 0.935000, Bscore: 0.892971, Cscore:  0.802520\n",
      "alpha: 0.936000, Bscore: 0.892949, Cscore:  0.802504\n",
      "alpha: 0.937000, Bscore: 0.892927, Cscore:  0.802488\n",
      "alpha: 0.938000, Bscore: 0.892905, Cscore:  0.802473\n",
      "alpha: 0.939000, Bscore: 0.892884, Cscore:  0.802458\n",
      "alpha: 0.940000, Bscore: 0.892863, Cscore:  0.802443\n",
      "alpha: 0.941000, Bscore: 0.892842, Cscore:  0.802428\n",
      "alpha: 0.942000, Bscore: 0.892822, Cscore:  0.802414\n",
      "alpha: 0.943000, Bscore: 0.892803, Cscore:  0.802400\n",
      "alpha: 0.944000, Bscore: 0.892783, Cscore:  0.802386\n",
      "alpha: 0.945000, Bscore: 0.892764, Cscore:  0.802373\n",
      "alpha: 0.946000, Bscore: 0.892746, Cscore:  0.802360\n",
      "alpha: 0.947000, Bscore: 0.892727, Cscore:  0.802347\n",
      "alpha: 0.948000, Bscore: 0.892710, Cscore:  0.802334\n",
      "alpha: 0.949000, Bscore: 0.892692, Cscore:  0.802322\n",
      "alpha: 0.950000, Bscore: 0.892675, Cscore:  0.802310\n",
      "alpha: 0.951000, Bscore: 0.892659, Cscore:  0.802299\n",
      "alpha: 0.952000, Bscore: 0.892642, Cscore:  0.802287\n",
      "alpha: 0.953000, Bscore: 0.892627, Cscore:  0.802277\n",
      "alpha: 0.954000, Bscore: 0.892611, Cscore:  0.802266\n",
      "alpha: 0.955000, Bscore: 0.892597, Cscore:  0.802255\n",
      "alpha: 0.956000, Bscore: 0.892582, Cscore:  0.802245\n",
      "alpha: 0.957000, Bscore: 0.892568, Cscore:  0.802236\n",
      "alpha: 0.958000, Bscore: 0.892555, Cscore:  0.802226\n",
      "alpha: 0.959000, Bscore: 0.892542, Cscore:  0.802217\n",
      "alpha: 0.960000, Bscore: 0.892530, Cscore:  0.802208\n",
      "alpha: 0.961000, Bscore: 0.892518, Cscore:  0.802200\n",
      "alpha: 0.962000, Bscore: 0.892506, Cscore:  0.802192\n",
      "alpha: 0.963000, Bscore: 0.892495, Cscore:  0.802184\n",
      "alpha: 0.964000, Bscore: 0.892484, Cscore:  0.802177\n",
      "alpha: 0.965000, Bscore: 0.892474, Cscore:  0.802170\n",
      "alpha: 0.966000, Bscore: 0.892465, Cscore:  0.802163\n",
      "alpha: 0.967000, Bscore: 0.892455, Cscore:  0.802157\n",
      "alpha: 0.968000, Bscore: 0.892447, Cscore:  0.802151\n",
      "alpha: 0.969000, Bscore: 0.892439, Cscore:  0.802145\n",
      "alpha: 0.970000, Bscore: 0.892431, Cscore:  0.802140\n",
      "alpha: 0.971000, Bscore: 0.892424, Cscore:  0.802134\n",
      "alpha: 0.972000, Bscore: 0.892417, Cscore:  0.802128\n",
      "alpha: 0.973000, Bscore: 0.892411, Cscore:  0.802123\n",
      "alpha: 0.974000, Bscore: 0.892405, Cscore:  0.802117\n",
      "alpha: 0.975000, Bscore: 0.892400, Cscore:  0.802112\n",
      "alpha: 0.976000, Bscore: 0.892396, Cscore:  0.802107\n",
      "alpha: 0.977000, Bscore: 0.892392, Cscore:  0.802103\n",
      "alpha: 0.978000, Bscore: 0.892388, Cscore:  0.802099\n",
      "alpha: 0.979000, Bscore: 0.892385, Cscore:  0.802096\n",
      "alpha: 0.980000, Bscore: 0.892383, Cscore:  0.802093\n",
      "alpha: 0.981000, Bscore: 0.892382, Cscore:  0.802091\n",
      "alpha: 0.982000, Bscore: 0.892381, Cscore:  0.802089\n",
      "alpha: 0.983000, Bscore: 0.892381, Cscore:  0.802088\n",
      "alpha: 0.984000, Bscore: 0.892382, Cscore:  0.802087\n",
      "alpha: 0.985000, Bscore: 0.892383, Cscore:  0.802087\n",
      "alpha: 0.986000, Bscore: 0.892385, Cscore:  0.802087\n",
      "alpha: 0.987000, Bscore: 0.892388, Cscore:  0.802088\n",
      "alpha: 0.988000, Bscore: 0.892392, Cscore:  0.802089\n",
      "alpha: 0.989000, Bscore: 0.892397, Cscore:  0.802092\n",
      "alpha: 0.990000, Bscore: 0.892403, Cscore:  0.802094\n",
      "alpha: 0.991000, Bscore: 0.892410, Cscore:  0.802098\n",
      "alpha: 0.992000, Bscore: 0.892418, Cscore:  0.802103\n",
      "alpha: 0.993000, Bscore: 0.892427, Cscore:  0.802108\n",
      "alpha: 0.994000, Bscore: 0.892436, Cscore:  0.802114\n",
      "alpha: 0.995000, Bscore: 0.892447, Cscore:  0.802121\n",
      "alpha: 0.996000, Bscore: 0.892459, Cscore:  0.802129\n",
      "alpha: 0.997000, Bscore: 0.892472, Cscore:  0.802137\n",
      "alpha: 0.998000, Bscore: 0.892487, Cscore:  0.802147\n",
      "alpha: 0.999000, Bscore: 0.892504, Cscore:  0.802158\n",
      "alpha: 1.000000, Bscore: 0.892524, Cscore:  0.802171\n"
     ]
    }
   ],
   "source": [
    "# Seems like the optimal alpha is in between .9 and 1\n",
    "for alpha in np.linspace(0.9, 1, 101):\n",
    "    print('alpha: %3f, Bscore:%9f, Cscore: %9f'%(\n",
    "              alpha,\n",
    "              score(meta_predict(X_metaB, alpha), Y_partB),\n",
    "              score(meta_predict(X_metaC, alpha), Y_partC),\n",
    "              )\n",
    "         )"
   ]
  },
  {
   "cell_type": "code",
   "execution_count": 23,
   "metadata": {},
   "outputs": [],
   "source": [
    "# Select the best alpha\n",
    "alpha = 0.982\n",
    "predict = meta_predict(X_meta_test, alpha)"
   ]
  },
  {
   "cell_type": "code",
   "execution_count": 24,
   "metadata": {},
   "outputs": [],
   "source": [
    "# The function `prepare_submission` will\n",
    "#     1. clip input `predict` (first argument <predict>)\n",
    "#     2. generate cvs file in '../submissions/<submission>.csv.gz' (second argument <submission>)\n",
    "#     3. return the dataframe written to submission file (suppressed display by ending semicolon)\n",
    "prepare_submission(predict, 'submission'); # public: 0.96443"
   ]
  },
  {
   "cell_type": "markdown",
   "metadata": {},
   "source": [
    "### Final submission (use all data)"
   ]
  },
  {
   "cell_type": "code",
   "execution_count": 27,
   "metadata": {},
   "outputs": [],
   "source": [
    "# XGBoost model\n",
    "xgb_alltrain = xgb.DMatrix(*xy_split(xgbselect(train)))\n",
    "\n",
    "bst = xgb.train(xgbparams, xgb_alltrain,\n",
    "                num_boost_round=best_it)\n",
    "\n",
    "xgb_meta_test = bst.predict(xgbtest)"
   ]
  },
  {
   "cell_type": "code",
   "execution_count": 28,
   "metadata": {},
   "outputs": [
    {
     "data": {
      "text/plain": [
       "LinearSVR(C=0.5, dual=False, epsilon=0.1, fit_intercept=True,\n",
       "     intercept_scaling=1.0, loss='squared_epsilon_insensitive',\n",
       "     max_iter=10000, random_state=3, tol=1e-06, verbose=0)"
      ]
     },
     "execution_count": 28,
     "metadata": {},
     "output_type": "execute_result"
    }
   ],
   "source": [
    "# SVM model\n",
    "X_train, Y_train = xy_split(svmfilter(train), clip='none')\n",
    "\n",
    "X_train = scaler.transform(X_train)\n",
    "\n",
    "svr = LinearSVR(\n",
    "    loss = 'squared_epsilon_insensitive',  # For L2 loss\n",
    "    epsilon = 0.1,\n",
    "    random_state = 3,\n",
    "    dual = False,\n",
    "    tol = 1e-6,\n",
    "    C = 0.5,\n",
    "    max_iter = 10000\n",
    ")\n",
    "svr.fit(X_train, Y_train)\n",
    "\n",
    "svm_meta_test = svr.predict(X_test) # X_test is already normalized in previous section"
   ]
  },
  {
   "cell_type": "code",
   "execution_count": 31,
   "metadata": {},
   "outputs": [],
   "source": [
    "pred = meta_predict(np.column_stack([xgb_meta_test, svm_meta_test]), alpha)\n",
    "\n",
    "prepare_submission(pred, 'final_submission'); # 0.95730"
   ]
  },
  {
   "cell_type": "code",
   "execution_count": 32,
   "metadata": {},
   "outputs": [],
   "source": [
    "# Save models\n",
    "bst.save_model('../models/final_bst')\n",
    "dump(svr, '../models/final_svr.pickle')"
   ]
  }
 ],
 "metadata": {
  "kernelspec": {
   "display_name": "Python 3",
   "language": "python",
   "name": "python3"
  },
  "language_info": {
   "codemirror_mode": {
    "name": "ipython",
    "version": 3
   },
   "file_extension": ".py",
   "mimetype": "text/x-python",
   "name": "python",
   "nbconvert_exporter": "python",
   "pygments_lexer": "ipython3",
   "version": "3.7.2"
  }
 },
 "nbformat": 4,
 "nbformat_minor": 2
}
